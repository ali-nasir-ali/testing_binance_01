{
  "nbformat": 4,
  "nbformat_minor": 0,
  "metadata": {
    "colab": {
      "name": "Untitled7.ipynb",
      "provenance": [],
      "authorship_tag": "ABX9TyM9rsrB/c8pYw1iH31UtH/2",
      "include_colab_link": true
    },
    "kernelspec": {
      "name": "python3",
      "display_name": "Python 3"
    },
    "language_info": {
      "name": "python"
    }
  },
  "cells": [
    {
      "cell_type": "markdown",
      "metadata": {
        "id": "view-in-github",
        "colab_type": "text"
      },
      "source": [
        "<a href=\"https://colab.research.google.com/github/anasir514/testing_binance_01/blob/main/binance_testing_colab.ipynb\" target=\"_parent\"><img src=\"https://colab.research.google.com/assets/colab-badge.svg\" alt=\"Open In Colab\"/></a>"
      ]
    },
    {
      "cell_type": "code",
      "metadata": {
        "id": "-ykj0r9xXex0"
      },
      "source": [
        "!pip install tornado==4.5.3\n",
        "!pip install python-binance"
      ],
      "execution_count": null,
      "outputs": []
    },
    {
      "cell_type": "code",
      "metadata": {
        "id": "X6EcCuBXvP6m"
      },
      "source": [
        "import asyncio\n",
        "import json\n",
        "\n",
        "from binance import AsyncClient\n",
        "\n",
        "async def main():\n",
        "    \n",
        "        client = await AsyncClient.create()\n",
        "        symbol_info = await client.get_symbol_info('BTCUSDT')\n",
        "    \n",
        "        print(json.dumps(symbol_info, indent=2))\n",
        "\n",
        "        await client.close_connection()\n",
        "    \n",
        "if __name__ == \"__main__\":\n",
        "    \n",
        "        loop = asyncio.get_event_loop()\n",
        "        loop.run_until_complete(main())"
      ],
      "execution_count": null,
      "outputs": []
    },
    {
      "cell_type": "code",
      "metadata": {
        "colab": {
          "base_uri": "https://localhost:8080/"
        },
        "id": "BuDjyfShXiYR",
        "outputId": "4b7d4ba1-6536-43ef-da82-490c1b5f8ea0"
      },
      "source": [
        "import asyncio\n",
        "import json\n",
        "\n",
        "from binance import AsyncClient\n",
        "\n",
        "async def main():\n",
        "    \n",
        "        client = await AsyncClient.create()\n",
        "    \n",
        "        print(json.dumps(await client.get_avg_price(symbol='BTCUSDT'), indent=2))\n",
        "    \n",
        "        await client.close_connection()\n",
        "    \n",
        "if __name__ == \"__main__\":\n",
        "    \n",
        "        loop = asyncio.get_event_loop()\n",
        "        loop.run_until_complete(main())\n",
        "    "
      ],
      "execution_count": 4,
      "outputs": [
        {
          "output_type": "stream",
          "text": [
            "{\n",
            "  \"mins\": 5,\n",
            "  \"price\": \"32706.41656804\"\n",
            "}\n"
          ],
          "name": "stdout"
        }
      ]
    },
    {
      "cell_type": "code",
      "metadata": {
        "id": "FvPFRPwTXp5c"
      },
      "source": [
        "    from binance.exceptions import BinanceAPIException\n",
        "\n",
        "    api_key = '<testnet api_key>'\n",
        "    api_secret = '<testnet api_secret>'\n",
        "    \n",
        "    async def main():\n",
        "    \n",
        "        quantity = '0.000001'\n",
        "        client = await AsyncClient.create(api_key=api_key, api_secret=api_secret, testnet=True)\n",
        "    \n",
        "        try:\n",
        "            market_res = await client.order_market_sell(symbol='BTCUSDT', quantity=quantity)\n",
        "        except BinanceAPIException as e:\n",
        "            print(e)\n",
        "        else:\n",
        "            print(json.dumps(market_res, indent=2))\n",
        "    \n",
        "        await client.close_connection()"
      ],
      "execution_count": null,
      "outputs": []
    },
    {
      "cell_type": "code",
      "metadata": {
        "id": "tbNRLOHXXve2"
      },
      "source": [
        "    async def main():\n",
        "\n",
        "        fills = [\n",
        "            {\n",
        "                \"price\": \"58801.75000000\",\n",
        "                \"qty\": \"0.00017100\",\n",
        "                \"commission\": \"0.00000000\",\n",
        "                \"commissionAsset\": \"BTC\",\n",
        "                \"tradeId\": 128006\n",
        "            },\n",
        "            {\n",
        "                \"price\": \"60125.42000000\",\n",
        "                \"qty\": \"0.00067900\",\n",
        "                \"commission\": \"0.00000000\",\n",
        "                \"commissionAsset\": \"BTC\",\n",
        "                \"tradeId\": 128007\n",
        "            },\n",
        "            {\n",
        "                \"price\": \"64398.28000000\",\n",
        "                \"qty\": \"0.00015000\",\n",
        "                \"commission\": \"0.00000000\",\n",
        "                \"commissionAsset\": \"BTC\",\n",
        "                \"tradeId\": 128008\n",
        "            }\n",
        "        ]\n",
        "        ave_price = sum([float(f['price']) * (float(f['qty']) / quantity) for f in fills])\n",
        "        print(ave_price)"
      ],
      "execution_count": null,
      "outputs": []
    },
    {
      "cell_type": "code",
      "metadata": {
        "id": "QGTkFbPtX1h1"
      },
      "source": [
        "    # add this import\n",
        "    from binance.helpers import round_step_size\n",
        "    \n",
        "    # update main\n",
        "    async def main():\n",
        "    \n",
        "        quantity = 0.001\n",
        "        profit_pct = 1 + (3 / 100)\n",
        "    \n",
        "        purchase_price = 58802.609\n",
        "        target_price = round_step_size(purchase_price * profit_pct, 0.01)\n",
        "        print(f'target_price: {target_price}')\n",
        "    \n",
        "        client = await AsyncClient.create(api_key=api_key, api_secret=api_secret, testnet=True)\n",
        "    \n",
        "        try:\n",
        "            limit_res = await client.order_limit_sell(symbol='BTCUSDT', price=target_price, quantity=quantity)\n",
        "        except BinanceAPIException as e:\n",
        "            print(e)\n",
        "        else:\n",
        "            print(json.dumps(limit_res, indent=2))\n",
        "    \n",
        "        await client.close_connection()"
      ],
      "execution_count": null,
      "outputs": []
    },
    {
      "cell_type": "code",
      "metadata": {
        "id": "h29M2nceX6_7"
      },
      "source": [
        ""
      ],
      "execution_count": null,
      "outputs": []
    }
  ]
}